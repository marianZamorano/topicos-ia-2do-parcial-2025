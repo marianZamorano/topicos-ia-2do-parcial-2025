{
 "cells": [
  {
   "cell_type": "code",
   "execution_count": 2,
   "id": "initial_id",
   "metadata": {
    "ExecuteTime": {
     "end_time": "2025-10-25T19:33:50.054699Z",
     "start_time": "2025-10-25T19:33:48.569691Z"
    },
    "collapsed": true
   },
   "outputs": [
    {
     "data": {
      "text/plain": [
       "True"
      ]
     },
     "execution_count": 2,
     "metadata": {},
     "output_type": "execute_result"
    }
   ],
   "source": [
    "from database import setup_database\n",
    "from tools import get_schema\n",
    "from agent import create_agent\n",
    "\n",
    "from dotenv import load_dotenv\n",
    "load_dotenv()"
   ]
  },
  {
   "cell_type": "code",
   "execution_count": 3,
   "id": "e5f30f270bf238d5",
   "metadata": {
    "ExecuteTime": {
     "end_time": "2025-10-25T19:34:13.359671Z",
     "start_time": "2025-10-25T19:34:13.355211Z"
    }
   },
   "outputs": [],
   "source": [
    "conn = setup_database()\n",
    "query_history = []"
   ]
  },
  {
   "cell_type": "code",
   "execution_count": 4,
   "id": "35862703c2b94f0f",
   "metadata": {
    "ExecuteTime": {
     "end_time": "2025-10-25T19:34:13.591615Z",
     "start_time": "2025-10-25T19:34:13.582139Z"
    }
   },
   "outputs": [
    {
     "name": "stdout",
     "output_type": "stream",
     "text": [
      "[Agent] DSPy configured with gpt-4o-mini model.\n"
     ]
    }
   ],
   "source": [
    "agent = create_agent(conn, query_history)"
   ]
  },
  {
   "cell_type": "code",
   "execution_count": 5,
   "id": "a22d3ff2257f5e35",
   "metadata": {
    "ExecuteTime": {
     "end_time": "2025-10-25T19:34:15.122126Z",
     "start_time": "2025-10-25T19:34:15.119473Z"
    }
   },
   "outputs": [
    {
     "name": "stdout",
     "output_type": "stream",
     "text": [
      "   [Tool Action] Getting schema for: all tables\n"
     ]
    }
   ],
   "source": [
    "initial_schema = get_schema(conn)"
   ]
  },
  {
   "cell_type": "code",
   "execution_count": 6,
   "id": "d219e6619cbccf63",
   "metadata": {
    "ExecuteTime": {
     "end_time": "2025-10-25T19:34:24.540029Z",
     "start_time": "2025-10-25T19:34:16.693243Z"
    }
   },
   "outputs": [
    {
     "name": "stdout",
     "output_type": "stream",
     "text": [
      "   [Tool Action] Getting schema for: sales\n",
      "   [BEGIN Tool Action] Executing SQL: SELECT employee_id, SUM(amount) as total_sales FROM sales GROUP BY employee_id ORDER BY total_sales DESC [END Tool Action]\n"
     ]
    }
   ],
   "source": [
    "response = agent(question=\"what are the best and worst employees in terms of sales?\", initial_schema=initial_schema)"
   ]
  },
  {
   "cell_type": "code",
   "execution_count": 7,
   "id": "b9c3a0bf7374d843",
   "metadata": {
    "ExecuteTime": {
     "end_time": "2025-10-25T19:34:25.558432Z",
     "start_time": "2025-10-25T19:34:25.555644Z"
    }
   },
   "outputs": [
    {
     "data": {
      "text/plain": [
       "'The best employee in terms of sales is Employee 1 with total sales of 3890.4, while the worst employee is Employee 3 with total sales of 15.5.'"
      ]
     },
     "execution_count": 7,
     "metadata": {},
     "output_type": "execute_result"
    }
   ],
   "source": [
    "response.answer"
   ]
  },
  {
   "cell_type": "code",
   "execution_count": 8,
   "id": "3adbb686608dc8ca",
   "metadata": {
    "ExecuteTime": {
     "end_time": "2025-10-25T19:34:33.250086Z",
     "start_time": "2025-10-25T19:34:33.247847Z"
    }
   },
   "outputs": [
    {
     "data": {
      "text/plain": [
       "['SELECT employee_id, SUM(amount) as total_sales FROM sales GROUP BY employee_id ORDER BY total_sales DESC']"
      ]
     },
     "execution_count": 8,
     "metadata": {},
     "output_type": "execute_result"
    }
   ],
   "source": [
    "query_history"
   ]
  },
  {
   "cell_type": "code",
   "execution_count": 9,
   "id": "85e18b4c9b8bd5e4",
   "metadata": {
    "ExecuteTime": {
     "end_time": "2025-10-25T19:35:32.097586Z",
     "start_time": "2025-10-25T19:35:10.475895Z"
    }
   },
   "outputs": [
    {
     "name": "stdout",
     "output_type": "stream",
     "text": [
      "   [Tool Action] Getting schema for: employees\n",
      "   [Tool Action] Getting schema for: customers\n",
      "   [Tool Action] Getting schema for: products\n",
      "   [Tool Action] Getting schema for: sales\n",
      "   [Tool Action] Getting schema for: queries\n"
     ]
    }
   ],
   "source": [
    "response = agent(question=\"explain to me the schema of the database\", initial_schema=initial_schema)"
   ]
  },
  {
   "cell_type": "code",
   "execution_count": 10,
   "id": "d50cbaf9fd0bc14f",
   "metadata": {
    "ExecuteTime": {
     "end_time": "2025-10-25T19:35:38.569717Z",
     "start_time": "2025-10-25T19:35:38.565987Z"
    }
   },
   "outputs": [
    {
     "data": {
      "text/plain": [
       "\"The database schema consists of the following tables:\\n- **employees**: This table has three columns: 'id' (INTEGER), 'employee_name' (TEXT), and 'department' (TEXT).\\n- **customers**: This table includes three columns: 'id' (INTEGER), 'name' (TEXT), and 'region' (TEXT).\\n- **products**: This table contains three columns: 'id' (INTEGER), 'name' (TEXT), and 'category' (TEXT).\\n- **sales**: This table has six columns: 'id' (INTEGER), 'product_id' (INTEGER), 'customer_id' (INTEGER), 'employee_id' (INTEGER), 'amount' (REAL), and 'name' (TEXT).\\n- **queries**: This table consists of three columns: 'id' (TEXT), 'status' (TEXT), and 'result' (TEXT).\\n\\nOverall, the schema provides a structured way to store and manage data related to employees, customers, products, sales transactions, and queries.\""
      ]
     },
     "execution_count": 10,
     "metadata": {},
     "output_type": "execute_result"
    }
   ],
   "source": [
    "response.answer"
   ]
  }
 ],
 "metadata": {
  "kernelspec": {
   "display_name": "topicos-ia-2do-parcial-2025",
   "language": "python",
   "name": "python3"
  },
  "language_info": {
   "codemirror_mode": {
    "name": "ipython",
    "version": 3
   },
   "file_extension": ".py",
   "mimetype": "text/x-python",
   "name": "python",
   "nbconvert_exporter": "python",
   "pygments_lexer": "ipython3",
   "version": "3.12.2"
  }
 },
 "nbformat": 4,
 "nbformat_minor": 5
}
